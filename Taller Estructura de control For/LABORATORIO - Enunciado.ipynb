{
 "cells": [
  {
   "cell_type": "markdown",
   "metadata": {},
   "source": [
    "# Laboratorio 1"
   ]
  },
  {
   "cell_type": "markdown",
   "metadata": {},
   "source": [
    "## Desarrollo de una herramienta analítica usando recursos nativos de Python"
   ]
  },
  {
   "cell_type": "markdown",
   "metadata": {},
   "source": [
    "Para el desarrollo de esta actividad debes utilizar únicamente recursos nativos de Python (puedes usar librerías como `math` y `random`). Está prohibido el uso de librerías externas, a excepción de `matplotlib`. Te recomendamos leer por completo el enunciado del laboratorio antes de comenzar, de forma que tengas claro el propósito global de la actividad y puedas desarrollar tu solución apuntando a él desde el inicio."
   ]
  },
  {
   "cell_type": "markdown",
   "metadata": {},
   "source": [
    "En algunas de las misiones encontrarás: una **versión base**, la cual indica el requerimiento mínimo de la misión; una **versión completa**, la cual indica mejoras deseables o complementos a la **versión base**. Un desarrollo aceptable del laboratorio debe satisfacer la **versión base** y un desarrollo correcto del laboratorio debe satisfacer la **versión completa**. Cumplir con el desarrollo de la **versión completa** desde un inicio hará más sencillas las misiones siguientes."
   ]
  },
  {
   "cell_type": "markdown",
   "metadata": {},
   "source": [
    "Al desarrollar este laboratorio pondrás a prueba tus habilidades para:\n",
    "\n",
    "1. Identificar y abordar preguntas de negocio y de *analytics*.\n",
    "2. Leer datos desde archivos y almacenarlos en estructuras de Python.\n",
    "3. Crear y llamar funciones.\n",
    "4. Implementar condicionales diferenciando `if`, `elif` y `else`.\n",
    "5. Implementar ciclos diferenciando el propósito de `for` y `while`."
   ]
  },
  {
   "cell_type": "markdown",
   "metadata": {},
   "source": [
    "## Contexto: exploración del potencial para asignar becas Unialpes"
   ]
  },
  {
   "cell_type": "markdown",
   "metadata": {},
   "source": [
    "La Universidad ean se ha caracterizado por su compromiso con la generación de impacto en la sociedad a través de diferentes programas de becas. Programas como Becas para los Mejores, entre otros, han sido revolucionarios al permitir que estudiantes de bajos recursos puedan acceder a una de las universidades más prestigiosas del país."
   ]
  },
  {
   "cell_type": "markdown",
   "metadata": {},
   "source": [
    "Actualmente, la universidad quiere evaluar el potencial impacto que tendrían algunos programas de acción afirmativa para asignación de becas, con base en información demográfica que ha obtenido a través de encuestas a personas interesadas en becas. Se cuenta con información respecto a la edad, género, estado civil, estrato socioeconómico, región de proveniencia, desempeño académico y nivel de escolaridad de las personas encuestadas. Los encargados de diseñar el programa saben que utilizar criterios basados en este tipo de variables es un tema sensible, pero es necesario si se quieren focalizar las oportunidades en poblaciones menos representadas."
   ]
  },
  {
   "cell_type": "markdown",
   "metadata": {},
   "source": [
    "El objetivo de este laboratorio es crear una herramienta computacional que permita a un tomador de decisiones explorar qué efecto podría tener el uso de diferentes reglas para seleccionar a los beneficiarios de las becas. Puntualmente, se espera que, para distintas reglas de selección (ej., pertenecer a cierta región, rango de edad, etc.), la herramienta ofrezca una caracterización de los potenciales beneficiarios de las becas (a partir de estadísticas descriptivas y visualizaciones), de forma que exista un sustento para elegir la regla de selección adecuada."
   ]
  },
  {
   "cell_type": "markdown",
   "metadata": {},
   "source": [
    "## Fase 1: obtener e inspeccionar archivos"
   ]
  },
  {
   "cell_type": "markdown",
   "metadata": {},
   "source": [
    "Los datos de encuestas fueron obtenidos como parte de un trabajo de campo y, por limitaciones tecnológicas, solo se cuenta con la información en archivos de texto plano (`.txt`). Cada archivo corresponde a uno de los atributos antes mencionados y están estructurados de forma que todos relacionan a las personas encuestadas en el mismo orden (i.e., en cada archivo la primera línea corresponde a un dato de la primera persona encuestada, la segunda línea corresponde a un dato de la segunda persona encuestada, etc.)."
   ]
  },
  {
   "cell_type": "markdown",
   "metadata": {},
   "source": [
    "Los archivos con los que cuentas son:\n",
    "\n",
    "* `\"edad.txt\"`: un archivo con la edad de cada persona encuestada;\n",
    "* `\"escolaridad.txt\"`: un archivo con el nivel de escolaridad de cada persona encuestada;\n",
    "* `\"estado_civil.txt\"`: un archivo con el estado civil de cada persona encuestada;\n",
    "* `\"estrato.txt\"`: un archivo con el estrato socioeconómico de cada persona encuestada;\n",
    "* `\"genero.txt\"`: un archivo con el género de cada persona encuestada;\n",
    "* `\"promedio.txt\"`: un archivo con el promedio académico de cada persona encuestada;\n",
    "* `\"region.txt\"`: un archivo con la región de proveniencia de cada persona encuestada."
   ]
  },
  {
   "cell_type": "markdown",
   "metadata": {},
   "source": [
    "### Misión 1"
   ]
  },
  {
   "cell_type": "markdown",
   "metadata": {},
   "source": [
    "**Versión base**: utiliza métodos de lectura de archivos para guardar la información de cada archivo en una estructura de datos de Python, de manera que se respete el orden y la categoría de los datos."
   ]
  },
  {
   "cell_type": "markdown",
   "metadata": {},
   "source": [
    "**Versión completa**: escribe una función que sea capaz de ejecutar la **versión base** y llámala dentro de un ciclo para automatizar la lectura de los archivos."
   ]
  },
  {
   "cell_type": "code",
   "execution_count": null,
   "metadata": {},
   "outputs": [],
   "source": [
    "\"\"\"# Implementa tu respuesta en esta celda\n",
    "def analisis (id, ruta):\n",
    "    def info_edad ():\n",
    "        archivo = open(f\"{ruta}/edad.txt\", \"r\",encoding=\"UTF-8\")\n",
    "        edad = []\n",
    "        for i in archivo:\n",
    "            edad.append(int(i.strip()))\n",
    "        return edad\n",
    "\n",
    "    def info_escolaridad ():\n",
    "        archivo = open(f\"{ruta}/escolaridad.txt\", \"r\",encoding=\"UTF-8\")\n",
    "        escolaridad = []\n",
    "        for i in archivo:\n",
    "            escolaridad.append(str(i.strip()))\n",
    "        return escolaridad\n",
    "\n",
    "    def info_estado_civil ():\n",
    "        archivo = open(f\"{ruta}/estado_civil.txt\", \"r\",encoding=\"UTF-8\")\n",
    "        estado_civil = []\n",
    "        for i in archivo:\n",
    "            estado_civil.append(str(i.strip()))\n",
    "        return estado_civil\n",
    "\n",
    "    def info_estrato ():\n",
    "        archivo = open(f\"{ruta}/estrato.txt\", \"r\",encoding=\"UTF-8\")\n",
    "        estrato = []\n",
    "        for i in archivo:\n",
    "            estrato.append(int(i.strip()))\n",
    "        return estrato\n",
    "\n",
    "    def info_genero ():\n",
    "        archivo = open(f\"{ruta}/genero.txt\", \"r\",encoding=\"UTF-8\")\n",
    "        genero = []\n",
    "        for i in archivo:\n",
    "            genero.append(str(i.strip()))\n",
    "        return genero\n",
    "\n",
    "    def info_promedio ():\n",
    "        archivo = open(f\"{ruta}/promedio.txt\", \"r\",encoding=\"UTF-8\")\n",
    "        promedio = []\n",
    "        for i in archivo:\n",
    "            promedio.append(float(i.strip()))\n",
    "        return promedio\n",
    "\n",
    "    def info_region ():\n",
    "        archivo = open(f\"{ruta}/region.txt\", \"r\",encoding=\"UTF-8\")\n",
    "        region = []\n",
    "        for i in archivo:\n",
    "            region.append(str(i.strip()))\n",
    "        return region\n",
    "\n",
    "    informacion_edad = info_edad()\n",
    "    informacion_escolaridad = info_escolaridad()\n",
    "    informacion_estado_civil = info_estado_civil()\n",
    "    informacion_estrato = info_estrato()\n",
    "    informacion_genero = info_genero()\n",
    "    informacion_promedio = info_promedio()\n",
    "    informacion_region = info_region()\n",
    "\n",
    "    \n",
    "    datos_finales = []\n",
    "    for i in range(0, id):\n",
    "        datos = {\"id\":(i+1),\n",
    "        \"estrato\": informacion_estrato[i],\n",
    "        \"estado_civil\": informacion_estado_civil[i], \n",
    "        \"edad\": informacion_edad[i], \n",
    "        \"region\" : informacion_region[i], \n",
    "        \"genero\" : informacion_genero[i], \n",
    "        \"escolaridad\": informacion_escolaridad[i], \n",
    "        \"promedio\" : informacion_promedio[i]}\n",
    "        datos_finales.append(datos)\n",
    "        \n",
    "    print(datos_finales)\n",
    "\n",
    "analisis(1, \"Archivos\")\"\"\""
   ]
  },
  {
   "cell_type": "code",
   "execution_count": null,
   "metadata": {},
   "outputs": [],
   "source": [
    "def info_edad():\n",
    "        archivo = open(f\"Archivos/edad.txt\", \"r\", encoding=\"UTF-8\")\n",
    "        edad = []\n",
    "        for i in archivo:\n",
    "            edad.append(int(i.strip()))\n",
    "        return edad\n",
    "\n",
    "def info_escolaridad ():\n",
    "    archivo = open(f\"Archivos/escolaridad.txt\", \"r\",encoding=\"UTF-8\")\n",
    "    escolaridad = []\n",
    "    for i in archivo:\n",
    "        escolaridad.append(str(i.strip()))\n",
    "    return escolaridad\n",
    "\n",
    "def info_estado_civil ():\n",
    "    archivo = open(f\"Archivos/estado_civil.txt\", \"r\",encoding=\"UTF-8\")\n",
    "    estado_civil = []\n",
    "    for i in archivo:\n",
    "        estado_civil.append(str(i.strip()))\n",
    "    return estado_civil\n",
    "\n",
    "def info_estrato ():\n",
    "    archivo = open(f\"Archivos/estrato.txt\", \"r\",encoding=\"UTF-8\")\n",
    "    estrato = []\n",
    "    for i in archivo:\n",
    "        estrato.append(int(i.strip()))\n",
    "    return estrato\n",
    "\n",
    "def info_genero ():\n",
    "    archivo = open(f\"Archivos/genero.txt\", \"r\",encoding=\"UTF-8\")\n",
    "    genero = []\n",
    "    for i in archivo:\n",
    "        genero.append(str(i.strip()))\n",
    "    return genero\n",
    "\n",
    "def info_promedio ():\n",
    "    archivo = open(f\"Archivos/promedio.txt\", \"r\",encoding=\"UTF-8\")\n",
    "    promedio = []\n",
    "    for i in archivo:\n",
    "        promedio.append(float(i.strip()))\n",
    "    return promedio\n",
    "\n",
    "def info_region ():\n",
    "    archivo = open(f\"Archivos/region.txt\", \"r\",encoding=\"UTF-8\")\n",
    "    region = []\n",
    "    for i in archivo:\n",
    "        region.append(str(i.strip()))\n",
    "    return region\n",
    "\n",
    "informacion_edad = info_edad()\n",
    "informacion_escolaridad = info_escolaridad()\n",
    "informacion_estado_civil = info_estado_civil()\n",
    "informacion_estrato = info_estrato()\n",
    "informacion_genero = info_genero()\n",
    "informacion_promedio = info_promedio()\n",
    "informacion_region = info_region()\n",
    "\n",
    "    \n",
    "datos_finales = []\n",
    "for i in range(0, id):\n",
    "    datos = {\"id\":(i+1),\n",
    "    \"estrato\": informacion_estrato[i],\n",
    "    \"estado_civil\": informacion_estado_civil[i], \n",
    "    \"edad\": informacion_edad[i], \n",
    "    \"region\" : informacion_region[i], \n",
    "    \"genero\" : informacion_genero[i], \n",
    "    \"escolaridad\": informacion_escolaridad[i], \n",
    "    \"promedio\" : informacion_promedio[i]}\n",
    "    datos_finales.append(datos)\n",
    "        \n",
    "print(datos_finales)"
   ]
  },
  {
   "cell_type": "markdown",
   "metadata": {},
   "source": [
    "### Misión 2"
   ]
  },
  {
   "cell_type": "markdown",
   "metadata": {},
   "source": [
    "**Versión base**: calcula estadísticas descriptivas básicas (por lo menos, media/mediana y varianza/desviación) para cada variable relevante en el contexto del problema y repórtalas concluyendo acerca de las principales características de los datos."
   ]
  },
  {
   "cell_type": "markdown",
   "metadata": {},
   "source": [
    "**Versión completa**: complementa la **versión base** con visualizaciones informativas sobre los datos (ej., histogramas, gráficos de dispersión, boxplots, etc.), relevantes para el problema."
   ]
  },
  {
   "cell_type": "code",
   "execution_count": 49,
   "metadata": {},
   "outputs": [
    {
     "name": "stdout",
     "output_type": "stream",
     "text": [
      "Numero de filas = 500\n",
      "promedio = 48.748\n",
      "mediana = 49.0\n",
      "varianza = 976.6875039999878\n",
      "desviacion estandar = 31.251999999999803\n",
      "rango = 62\n"
     ]
    }
   ],
   "source": [
    "# Implementa tu respuesta en esta celda\n",
    "def estadistica (lista):\n",
    "    # Numero de datos\n",
    "    numero_datos = len(lista)\n",
    "\n",
    "    # Promedio\n",
    "    suma_promedio = 0\n",
    "    for i in lista:\n",
    "        suma_promedio += i\n",
    "    promedio = suma_promedio / numero_datos\n",
    "\n",
    "    # Mediana\n",
    "    mitad = numero_datos // 2\n",
    "    lista.sort()\n",
    "    mediana = (lista[mitad-1] + lista[mitad])/2\n",
    "    \n",
    "    # Varianza\n",
    "    suma_varianza = 0\n",
    "    for j in lista:\n",
    "        sumatoria = (i-promedio)**2\n",
    "        suma_varianza += sumatoria\n",
    "    varianza = suma_varianza / numero_datos\n",
    "\n",
    "    # Desviacion estandar\n",
    "    desviacion_estandar = (varianza)**0.5\n",
    "\n",
    "    # Rango \n",
    "    rango = max(lista) - min(lista)\n",
    "\n",
    "    return numero_datos, promedio, mediana, varianza, desviacion_estandar, rango\n",
    "\n",
    "def imprimir(valores):\n",
    "    (n,p,m,v,d,r) = valores\n",
    "    print(f\"Numero de filas = {n}\")\n",
    "    print(f\"promedio = {p}\")\n",
    "    print(f\"mediana = {m}\")\n",
    "    print(f\"varianza = {v}\")\n",
    "    print(f\"desviacion estandar = {d}\")\n",
    "    print(f\"rango = {r}\")\n",
    "\n",
    "imprimir(estadistica(informacion_edad))\n",
    "imprimir(estadistica(informacion_estrato))\n",
    "imprimir(estadistica(informacion_promedio))\n",
    "\n"
   ]
  },
  {
   "cell_type": "code",
   "execution_count": 2,
   "metadata": {},
   "outputs": [
    {
     "name": "stdout",
     "output_type": "stream",
     "text": [
      "\n",
      "Numero de filas = 500\n",
      "promedio = 48.748\n",
      "mediana = 49.0\n",
      "varianza = 345.76849599999997\n",
      "desviacion estandar = 18.59485133040864\n",
      "rango = 62 \n",
      "Edad None\n",
      "\n",
      "Numero de filas = 500\n",
      "promedio = 2.308\n",
      "mediana = 25.5\n",
      "varianza = 0.9531359999999962\n",
      "desviacion estandar = 0.9762868430947926\n",
      "rango = 4 \n",
      "Estrato None\n",
      "\n",
      "Numero de filas = 500\n",
      "promedio = 2.6212000000000004\n",
      "mediana = 25.85\n",
      "varianza = 1.2452705600000027\n",
      "desviacion estandar = 1.1159169144698913\n",
      "rango = 5.0 \n",
      "promedio None\n"
     ]
    },
    {
     "ename": "AttributeError",
     "evalue": "module 'matplotlib' has no attribute 'hist'",
     "output_type": "error",
     "traceback": [
      "\u001b[0;31m---------------------------------------------------------------------------\u001b[0m",
      "\u001b[0;31mAttributeError\u001b[0m                            Traceback (most recent call last)",
      "\u001b[0;32m<ipython-input-2-e57c2e48aa15>\u001b[0m in \u001b[0;36m<module>\u001b[0;34m\u001b[0m\n\u001b[1;32m     41\u001b[0m \u001b[0mprint\u001b[0m\u001b[0;34m(\u001b[0m\u001b[0;34m\"promedio\"\u001b[0m\u001b[0;34m,\u001b[0m\u001b[0mdescriptive_stadistic\u001b[0m\u001b[0;34m(\u001b[0m\u001b[0mpromedio\u001b[0m\u001b[0;34m)\u001b[0m\u001b[0;34m)\u001b[0m\u001b[0;34m\u001b[0m\u001b[0;34m\u001b[0m\u001b[0m\n\u001b[1;32m     42\u001b[0m \u001b[0;31m#histograma\u001b[0m\u001b[0;34m\u001b[0m\u001b[0;34m\u001b[0m\u001b[0;34m\u001b[0m\u001b[0m\n\u001b[0;32m---> 43\u001b[0;31m \u001b[0mplt\u001b[0m\u001b[0;34m.\u001b[0m\u001b[0mhist\u001b[0m\u001b[0;34m(\u001b[0m\u001b[0medad\u001b[0m\u001b[0;34m)\u001b[0m\u001b[0;34m\u001b[0m\u001b[0;34m\u001b[0m\u001b[0m\n\u001b[0m\u001b[1;32m     44\u001b[0m \u001b[0mplt\u001b[0m\u001b[0;34m.\u001b[0m\u001b[0mshow\u001b[0m\u001b[0;34m(\u001b[0m\u001b[0;34m)\u001b[0m\u001b[0;34m\u001b[0m\u001b[0;34m\u001b[0m\u001b[0m\n",
      "\u001b[0;32m/opt/conda/lib/python3.7/site-packages/matplotlib/_api/__init__.py\u001b[0m in \u001b[0;36m__getattr__\u001b[0;34m(name)\u001b[0m\n\u001b[1;32m    221\u001b[0m             \u001b[0;32mreturn\u001b[0m \u001b[0mprops\u001b[0m\u001b[0;34m[\u001b[0m\u001b[0mname\u001b[0m\u001b[0;34m]\u001b[0m\u001b[0;34m.\u001b[0m\u001b[0m__get__\u001b[0m\u001b[0;34m(\u001b[0m\u001b[0minstance\u001b[0m\u001b[0;34m)\u001b[0m\u001b[0;34m\u001b[0m\u001b[0;34m\u001b[0m\u001b[0m\n\u001b[1;32m    222\u001b[0m         raise AttributeError(\n\u001b[0;32m--> 223\u001b[0;31m             f\"module {cls.__module__!r} has no attribute {name!r}\")\n\u001b[0m\u001b[1;32m    224\u001b[0m \u001b[0;34m\u001b[0m\u001b[0m\n\u001b[1;32m    225\u001b[0m     \u001b[0;32mreturn\u001b[0m \u001b[0m__getattr__\u001b[0m\u001b[0;34m\u001b[0m\u001b[0;34m\u001b[0m\u001b[0m\n",
      "\u001b[0;31mAttributeError\u001b[0m: module 'matplotlib' has no attribute 'hist'"
     ]
    }
   ],
   "source": []
  },
  {
   "cell_type": "markdown",
   "metadata": {},
   "source": [
    "## Referencias"
   ]
  },
  {
   "cell_type": "markdown",
   "metadata": {},
   "source": [
    "* Discriminación Positiva<br>\n",
    "https://es.wikipedia.org/wiki/Discriminaci%C3%B3n_positiva\n",
    "* Análisis de formulación del programa “Ser Pilo Paga”<br>\n",
    "https://repository.urosario.edu.co/handle/10336/12526\n",
    "* La acción afirmativa en la Universidad de los Andes: El caso del programa \"Oportunidades para talentos nacionales\"<br> http://www.scielo.org.co/scielo.php?script=sci_arttext&pid=S0123-885X2004000300005\n",
    "* Acción afirmativa y equidad: un análisis desde la propuesta de Thomas Nagel<br>\n",
    "http://www.scielo.org.mx/scielo.php?script=sci_arttext&pid=S2007-24062016000200049"
   ]
  },
  {
   "cell_type": "markdown",
   "metadata": {},
   "source": [
    "## Créditos"
   ]
  },
  {
   "cell_type": "markdown",
   "metadata": {},
   "source": [
    "__Autores__: Camilo Hernando Gómez Castro, Alejandro Mantilla Redondo, Diego Alejandro Cely Gómez.\n",
    " \n",
    "__Fecha última actualización__: 11/07/2022"
   ]
  }
 ],
 "metadata": {
  "kernelspec": {
   "display_name": "Python 3.10.4 64-bit",
   "language": "python",
   "name": "python3"
  },
  "language_info": {
   "codemirror_mode": {
    "name": "ipython",
    "version": 3
   },
   "file_extension": ".py",
   "mimetype": "text/x-python",
   "name": "python",
   "nbconvert_exporter": "python",
   "pygments_lexer": "ipython3",
   "version": "3.10.4"
  },
  "vscode": {
   "interpreter": {
    "hash": "519ac251aad38b9ee20fd03a9acb16b626785fe62df00e244847f9df42487f20"
   }
  }
 },
 "nbformat": 4,
 "nbformat_minor": 1
}
